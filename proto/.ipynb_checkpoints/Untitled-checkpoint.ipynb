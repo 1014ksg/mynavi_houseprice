{
 "cells": [
  {
   "cell_type": "code",
   "execution_count": 2,
   "metadata": {},
   "outputs": [],
   "source": [
    "import pandas as pd\n",
    "import numpy as np\n",
    "from tqdm import tqdm\n",
    "import seaborn as sns\n",
    "import matplotlib\n",
    "import matplotlib.pyplot as plt\n",
    "import lightgbm as lgb\n",
    "\n",
    "from sklearn.metrics import mean_squared_error, roc_auc_score\n",
    "from sklearn.preprocessing import LabelEncoder\n",
    "from sklearn.model_selection import train_test_split\n",
    "\n",
    "import warnings\n",
    "warnings.filterwarnings('ignore')\n",
    "\n",
    "import os\n"
   ]
  },
  {
   "cell_type": "code",
   "execution_count": 3,
   "metadata": {},
   "outputs": [
    {
     "name": "stderr",
     "output_type": "stream",
     "text": [
      "2019-10-09 16:50:21,571 __main__ 4 [INFO][<module>] start \n"
     ]
    }
   ],
   "source": [
    "from load_data import load_train_data, load_test_data\n",
    "\n",
    "DIR = 'result_tmp/'\n",
    "\n",
    "df = load_train_data()\n",
    "\n",
    "x_train = df.drop('target', axis=1)\n",
    "y_train = df['target'].values"
   ]
  },
  {
   "cell_type": "code",
   "execution_count": 4,
   "metadata": {},
   "outputs": [
    {
     "data": {
      "image/png": "[encoded data removed]",
      "text/plain": [
       "<Figure size 432x288 with 1 Axes>"
      ]
     },
     "metadata": {
      "needs_background": "light"
     },
     "output_type": "display_data"
    },
    {
     "data": {
      "text/plain": [
       "5093     2500000\n",
       "20643    1800000\n",
       "30539    1660000\n",
       "1771     1450000\n",
       "8706     1390000\n",
       "9008     1300000\n",
       "20989    1300000\n",
       "15417    1300000\n",
       "5775     1203500\n",
       "1501     1200000\n",
       "16847    1120000\n",
       "25551    1120000\n",
       "11958    1120000\n",
       "20024    1100000\n",
       "11367    1100000\n",
       "17324    1100000\n",
       "27602     980000\n",
       "5599      950000\n",
       "13498     950000\n",
       "6030      950000\n",
       "10719     950000\n",
       "20241     920000\n",
       "6351      900000\n",
       "671       900000\n",
       "25951     900000\n",
       "27569     900000\n",
       "2075      880000\n",
       "18249     880000\n",
       "16520     880000\n",
       "17399     850000\n",
       "          ...   \n",
       "6705       32000\n",
       "74         31000\n",
       "26019      31000\n",
       "25798      31000\n",
       "20483      30000\n",
       "6130       30000\n",
       "3060       30000\n",
       "27088      30000\n",
       "10421      30000\n",
       "15671      30000\n",
       "16565      30000\n",
       "8637       30000\n",
       "22623      30000\n",
       "4513       30000\n",
       "12506      30000\n",
       "26278      29500\n",
       "7674       29000\n",
       "13175      29000\n",
       "18173      29000\n",
       "24000      28500\n",
       "24959      28000\n",
       "6005       28000\n",
       "754        28000\n",
       "15500      28000\n",
       "8919       28000\n",
       "21874      27000\n",
       "226        27000\n",
       "17476      26200\n",
       "2649       26000\n",
       "18549      25000\n",
       "Name: target, Length: 31470, dtype: int64"
      ]
     },
     "execution_count": 4,
     "metadata": {},
     "output_type": "execute_result"
    }
   ],
   "source": [
    "    df_train = load_train_data()\n",
    "\n",
    "    x_train = df_train.drop('target', axis=1)\n",
    "    y_train = df_train['target']\n",
    "    \n",
    "    df_train.describe()\n",
    "    sns.distplot(y_train),plt.show()\n",
    "\n",
    "    y_train.sort_values(ascending=False)"
   ]
  },
  {
   "cell_type": "code",
   "execution_count": null,
   "metadata": {},
   "outputs": [],
   "source": []
  },
  {
   "cell_type": "code",
   "execution_count": null,
   "metadata": {},
   "outputs": [],
   "source": []
  },
  {
   "cell_type": "code",
   "execution_count": null,
   "metadata": {},
   "outputs": [],
   "source": []
  }
 ],
 "metadata": {
  "celltoolbar": "Raw Cell Format",
  "kernelspec": {
   "display_name": "Python 3",
   "language": "python",
   "name": "python3"
  },
  "language_info": {
   "codemirror_mode": {
    "name": "ipython",
    "version": 3
   },
   "file_extension": ".py",
   "mimetype": "text/x-python",
   "name": "python",
   "nbconvert_exporter": "python",
   "pygments_lexer": "ipython3",
   "version": "3.7.3"
  }
 },
 "nbformat": 4,
 "nbformat_minor": 2
}
