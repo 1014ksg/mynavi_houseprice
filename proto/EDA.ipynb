{
 "cells": [
  {
   "cell_type": "markdown",
   "metadata": {},
   "source": [
    "まずインポート"
   ]
  },
  {
   "cell_type": "code",
   "execution_count": 1,
   "metadata": {},
   "outputs": [],
   "source": [
    "import pandas as pd\n",
    "import numpy as np\n",
    "from tqdm import tqdm\n",
    "import seaborn as sns\n",
    "import matplotlib\n",
    "import matplotlib.pyplot as plt\n",
    "import lightgbm as lgb\n",
    "\n",
    "from sklearn.metrics import mean_squared_error, roc_auc_score\n",
    "from sklearn.preprocessing import LabelEncoder\n",
    "from sklearn.model_selection import train_test_split\n",
    "\n",
    "import warnings\n",
    "warnings.filterwarnings('ignore')\n",
    "\n",
    "import os"
   ]
  },
  {
   "cell_type": "markdown",
   "metadata": {},
   "source": [
    "自分で作ったpyファイルをインストールしてもうまくいく  \n",
    "データの処理はこっちでやる？"
   ]
  },
  {
   "cell_type": "code",
   "execution_count": 2,
   "metadata": {},
   "outputs": [],
   "source": [
    "from load_data import load_train_data, load_test_data"
   ]
  },
  {
   "cell_type": "markdown",
   "metadata": {},
   "source": [
    "# BASIC　EDA"
   ]
  },
  {
   "cell_type": "markdown",
   "metadata": {},
   "source": [
    "trainデータを教師データと入力データに分けた"
   ]
  },
  {
   "cell_type": "code",
   "execution_count": 3,
   "metadata": {},
   "outputs": [],
   "source": [
    "df_load_train = load_train_data()\n",
    "x_train = df_load_train.drop('target', axis=1)\n",
    "y_train = df_load_train['target']"
   ]
  },
  {
   "cell_type": "code",
   "execution_count": 4,
   "metadata": {},
   "outputs": [
    {
     "data": {
      "text/html": [
       "<div>\n",
       "<style scoped>\n",
       "    .dataframe tbody tr th:only-of-type {\n",
       "        vertical-align: middle;\n",
       "    }\n",
       "\n",
       "    .dataframe tbody tr th {\n",
       "        vertical-align: top;\n",
       "    }\n",
       "\n",
       "    .dataframe thead th {\n",
       "        text-align: right;\n",
       "    }\n",
       "</style>\n",
       "<table border=\"1\" class=\"dataframe\">\n",
       "  <thead>\n",
       "    <tr style=\"text-align: right;\">\n",
       "      <th></th>\n",
       "      <th>id</th>\n",
       "      <th>Place</th>\n",
       "      <th>Access</th>\n",
       "      <th>Room</th>\n",
       "      <th>Passed</th>\n",
       "      <th>Angle</th>\n",
       "      <th>Area</th>\n",
       "      <th>Floor</th>\n",
       "      <th>Bath</th>\n",
       "      <th>Kitchen</th>\n",
       "      <th>Internet</th>\n",
       "      <th>Facility</th>\n",
       "      <th>Parking</th>\n",
       "      <th>Building</th>\n",
       "      <th>Material</th>\n",
       "      <th>Contract</th>\n",
       "    </tr>\n",
       "  </thead>\n",
       "  <tbody>\n",
       "    <tr>\n",
       "      <th>0</th>\n",
       "      <td>1</td>\n",
       "      <td>東京都北区滝野川３丁目</td>\n",
       "      <td>都営三田線\\t西巣鴨駅\\t徒歩4分\\t\\t埼京線\\t板橋駅\\t徒歩14分\\t\\t都電荒川線\\...</td>\n",
       "      <td>1K</td>\n",
       "      <td>9年9ヶ月</td>\n",
       "      <td>南東</td>\n",
       "      <td>20.01m2</td>\n",
       "      <td>1階／12階建</td>\n",
       "      <td>専用バス／\\t専用トイレ／\\tバス・トイレ別／\\tシャワー／\\t浴室乾燥機\\t／\\t温水洗浄便座</td>\n",
       "      <td>ガスコンロ／\\tコンロ2口／\\tシステムキッチン\\t／\\t給湯</td>\n",
       "      <td>インターネット対応／\\tCATV／\\tCSアンテナ／\\tBSアンテナ</td>\n",
       "      <td>エアコン付\\tシューズボックス／\\tバルコニー／\\tフローリング／\\t室内洗濯機置場／\\t敷...</td>\n",
       "      <td>駐輪場\\t空有</td>\n",
       "      <td>【小学校】 495m\\t【大学】 461m\\t【小学校】 962m\\t【公園】 1103m\\...</td>\n",
       "      <td>RC（鉄筋コンクリート）</td>\n",
       "      <td>2年間</td>\n",
       "    </tr>\n",
       "    <tr>\n",
       "      <th>1</th>\n",
       "      <td>2</td>\n",
       "      <td>東京都中央区月島３丁目</td>\n",
       "      <td>都営大江戸線\\t勝どき駅\\t徒歩5分\\t\\t有楽町線\\t月島駅\\t徒歩9分\\t\\t日比谷線\\...</td>\n",
       "      <td>1R</td>\n",
       "      <td>44年10ヶ月</td>\n",
       "      <td>NaN</td>\n",
       "      <td>16.5m2</td>\n",
       "      <td>5階／10階建</td>\n",
       "      <td>専用トイレ／\\tシャワー／\\t温水洗浄便座</td>\n",
       "      <td>ガスコンロ／\\tシステムキッチン\\t／\\t給湯</td>\n",
       "      <td>インターネット対応</td>\n",
       "      <td>エアコン付\\tシューズボックス／\\tバルコニー／\\tフローリング／\\t室内洗濯機置場／\\t敷...</td>\n",
       "      <td>駐輪場\\t空有\\t駐車場\\t無\\tバイク置き場\\t無</td>\n",
       "      <td>【スーパー】 1283m</td>\n",
       "      <td>鉄骨造</td>\n",
       "      <td>2年間</td>\n",
       "    </tr>\n",
       "    <tr>\n",
       "      <th>2</th>\n",
       "      <td>3</td>\n",
       "      <td>東京都渋谷区笹塚２丁目</td>\n",
       "      <td>京王線\\t笹塚駅\\t徒歩6分\\t\\t京王線\\t代田橋駅\\t徒歩7分\\t\\t京王線\\t明大前駅...</td>\n",
       "      <td>1K</td>\n",
       "      <td>8年6ヶ月</td>\n",
       "      <td>南</td>\n",
       "      <td>22.05m2</td>\n",
       "      <td>12階／15階建</td>\n",
       "      <td>専用バス／\\t専用トイレ／\\tバス・トイレ別／\\tシャワー／\\t浴室乾燥機\\t／\\t温水洗浄...</td>\n",
       "      <td>ガスコンロ／\\tコンロ2口／\\tシステムキッチン\\t／\\t給湯</td>\n",
       "      <td>インターネット対応／\\t光ファイバー／\\tCSアンテナ／\\tBSアンテナ</td>\n",
       "      <td>エアコン付\\tウォークインクローゼット\\tシューズボックス／\\tバルコニー／\\tフローリング...</td>\n",
       "      <td>駐輪場\\t空有\\tバイク置き場\\t空有\\t駐車場\\t近隣\\t30,000円(税込)\\t距離100m</td>\n",
       "      <td>【スーパー】 89m\\t【コンビニ】 184m\\t【コンビニ】 392m\\t【スーパー】 492m</td>\n",
       "      <td>RC（鉄筋コンクリート）</td>\n",
       "      <td>2年間</td>\n",
       "    </tr>\n",
       "    <tr>\n",
       "      <th>3</th>\n",
       "      <td>4</td>\n",
       "      <td>東京都杉並区高円寺南２丁目23-2</td>\n",
       "      <td>総武線・中央線（各停）\\t高円寺駅\\t徒歩9分\\t\\t丸ノ内線(池袋－荻窪)\\t新高円寺駅\\...</td>\n",
       "      <td>2LDK</td>\n",
       "      <td>29年4ヶ月</td>\n",
       "      <td>南</td>\n",
       "      <td>60.48m2</td>\n",
       "      <td>3階／4階建</td>\n",
       "      <td>専用バス／\\t専用トイレ／\\tバス・トイレ別／\\tシャワー／\\t温水洗浄便座／\\t洗面台独立</td>\n",
       "      <td>ガスコンロ／\\t給湯</td>\n",
       "      <td>インターネット対応／\\t光ファイバー</td>\n",
       "      <td>エアコン付\\tシューズボックス／\\tバルコニー／\\t2面採光／\\t室内洗濯機置場／\\tエレベ...</td>\n",
       "      <td>駐車場\\t無\\t駐輪場\\t無\\tバイク置き場\\t無</td>\n",
       "      <td>【スーパー】 225m\\t【スーパー】 448m\\t【スーパー】 619m\\t【スーパー】 ...</td>\n",
       "      <td>RC（鉄筋コンクリート）</td>\n",
       "      <td>2年間\\t※この物件は\\t定期借家\\tです。</td>\n",
       "    </tr>\n",
       "    <tr>\n",
       "      <th>4</th>\n",
       "      <td>5</td>\n",
       "      <td>東京都葛飾区金町３丁目7-2</td>\n",
       "      <td>京成金町線\\t京成金町駅\\t徒歩5分\\t\\t常磐線\\t金町(東京都)駅\\t徒歩7分\\t\\t京...</td>\n",
       "      <td>2DK</td>\n",
       "      <td>31年7ヶ月</td>\n",
       "      <td>南</td>\n",
       "      <td>39.66m2</td>\n",
       "      <td>1階／2階建</td>\n",
       "      <td>専用バス／\\t専用トイレ／\\tバス・トイレ別／\\tシャワー／\\t追焚機能</td>\n",
       "      <td>給湯／\\t独立キッチン</td>\n",
       "      <td>NaN</td>\n",
       "      <td>バルコニー／\\tフローリング／\\t室内洗濯機置場\\t公営水道／\\t下水</td>\n",
       "      <td>駐車場\\t近隣\\t17,000円(税込)\\t距離300m\\t駐輪場\\t無\\tバイク置き場\\t無</td>\n",
       "      <td>【スーパー】 193m\\t【スーパー】 298m\\t【スーパー】 660m\\t【スーパー】 ...</td>\n",
       "      <td>木造</td>\n",
       "      <td>2年間</td>\n",
       "    </tr>\n",
       "    <tr>\n",
       "      <th>5</th>\n",
       "      <td>6</td>\n",
       "      <td>東京都荒川区南千住５丁目</td>\n",
       "      <td>常磐線快速\\t南千住駅\\t徒歩2分\\t\\t都電荒川線\\t三ノ輪橋駅\\t徒歩10分\\t\\t日比...</td>\n",
       "      <td>2LDK</td>\n",
       "      <td>7年6ヶ月</td>\n",
       "      <td>東</td>\n",
       "      <td>50.8m2</td>\n",
       "      <td>6階／12階建</td>\n",
       "      <td>専用バス／\\t専用トイレ／\\tバス・トイレ別／\\tシャワー／\\t浴室乾燥機\\t／\\t温水洗浄...</td>\n",
       "      <td>ガスコンロ／\\tコンロ3口／\\tシステムキッチン\\t／\\t給湯／\\t独立キッチン</td>\n",
       "      <td>インターネット対応／\\t光ファイバー</td>\n",
       "      <td>エアコン付\\tシューズボックス／\\tバルコニー／\\tフローリング／\\t24時間換気システム\\...</td>\n",
       "      <td>駐輪場\\t空有\\t駐車場\\t近隣\\t27,000円(税込)\\t距離150m\\tバイク置き場\\t無</td>\n",
       "      <td>【スーパー】 251m\\t【コンビニ】 376m</td>\n",
       "      <td>RC（鉄筋コンクリート）</td>\n",
       "      <td>2年間</td>\n",
       "    </tr>\n",
       "    <tr>\n",
       "      <th>6</th>\n",
       "      <td>7</td>\n",
       "      <td>東京都練馬区東大泉３丁目</td>\n",
       "      <td>西武池袋線\\t大泉学園駅\\t徒歩4分\\t\\t西武池袋線\\t保谷駅\\t徒歩25分\\t\\t東武東...</td>\n",
       "      <td>1K</td>\n",
       "      <td>10年5ヶ月</td>\n",
       "      <td>南</td>\n",
       "      <td>23.82m2</td>\n",
       "      <td>6階／8階建</td>\n",
       "      <td>専用バス／\\t専用トイレ／\\tバス・トイレ別／\\tシャワー／\\t追焚機能／\\t浴室乾燥機\\t...</td>\n",
       "      <td>ガスコンロ／\\tコンロ2口／\\tシステムキッチン\\t／\\t給湯</td>\n",
       "      <td>インターネット対応／\\t光ファイバー／\\tCATV／\\tBSアンテナ</td>\n",
       "      <td>エアコン付\\tシューズボックス／\\tバルコニー／\\tフローリング／\\t24時間換気システム\\...</td>\n",
       "      <td>駐輪場\\t空有\\t駐車場\\t近隣\\t16,000円(税込)\\t距離200m\\tバイク置き場\\t無</td>\n",
       "      <td>【スーパー】 812m\\t【コンビニ】 149m\\t【コンビニ】 942m\\t【スーパー】 ...</td>\n",
       "      <td>RC（鉄筋コンクリート）</td>\n",
       "      <td>2年間</td>\n",
       "    </tr>\n",
       "    <tr>\n",
       "      <th>7</th>\n",
       "      <td>8</td>\n",
       "      <td>東京都目黒区鷹番１丁目</td>\n",
       "      <td>東急東横線\\t学芸大学駅\\t徒歩7分\\t\\t東急東横線\\t都立大学駅\\t徒歩16分\\t\\t東...</td>\n",
       "      <td>1K</td>\n",
       "      <td>14年4ヶ月</td>\n",
       "      <td>NaN</td>\n",
       "      <td>32.32m2</td>\n",
       "      <td>1階／6階建</td>\n",
       "      <td>専用バス／\\t専用トイレ／\\tバス・トイレ別／\\t追焚機能／\\t浴室乾燥機\\t／\\t温水洗浄...</td>\n",
       "      <td>ガスコンロ／\\tコンロ2口／\\tシステムキッチン</td>\n",
       "      <td>光ファイバー／\\tCATV／\\tCSアンテナ／\\tBSアンテナ</td>\n",
       "      <td>エアコン付\\tシューズボックス／\\tバルコニー／\\tフローリング／\\t24時間換気システム\\...</td>\n",
       "      <td>NaN</td>\n",
       "      <td>【スーパー】 334m\\t【スーパー】 562m\\t【スーパー】 694m\\t【コンビニ】 ...</td>\n",
       "      <td>RC（鉄筋コンクリート）</td>\n",
       "      <td>2年間</td>\n",
       "    </tr>\n",
       "    <tr>\n",
       "      <th>8</th>\n",
       "      <td>9</td>\n",
       "      <td>東京都文京区向丘１丁目</td>\n",
       "      <td>南北線\\t東大前駅\\t徒歩3分\\t\\t都営三田線\\t白山(東京都)駅\\t徒歩10分\\t\\t千...</td>\n",
       "      <td>2DK</td>\n",
       "      <td>44年8ヶ月</td>\n",
       "      <td>北西</td>\n",
       "      <td>65.59m2</td>\n",
       "      <td>4階／9階建</td>\n",
       "      <td>専用バス／\\t専用トイレ／\\tバス・トイレ別／\\t追焚機能／\\t洗面台独立</td>\n",
       "      <td>ガスコンロ／\\tコンロ3口／\\tシステムキッチン\\t／\\t給湯</td>\n",
       "      <td>NaN</td>\n",
       "      <td>エアコン付\\tバルコニー／\\tフローリング／\\t室内洗濯機置場\\t公営水道／\\t都市ガス</td>\n",
       "      <td>駐車場\\t無</td>\n",
       "      <td>NaN</td>\n",
       "      <td>SRC（鉄骨鉄筋コンクリート）</td>\n",
       "      <td>2年間</td>\n",
       "    </tr>\n",
       "    <tr>\n",
       "      <th>9</th>\n",
       "      <td>10</td>\n",
       "      <td>東京都板橋区板橋４丁目</td>\n",
       "      <td>埼京線\\t板橋駅\\t徒歩8分\\t\\t都営三田線\\t新板橋駅\\t徒歩4分\\t\\t東武東上線\\t...</td>\n",
       "      <td>1DK</td>\n",
       "      <td>38年9ヶ月</td>\n",
       "      <td>南東</td>\n",
       "      <td>30.3m2</td>\n",
       "      <td>2階／3階建</td>\n",
       "      <td>専用バス／\\t専用トイレ／\\tバス・トイレ別／\\tシャワー／\\t洗面台独立</td>\n",
       "      <td>ガスコンロ／\\tコンロ2口／\\t給湯</td>\n",
       "      <td>光ファイバー／\\tCATV</td>\n",
       "      <td>エアコン付\\tバルコニー／\\tフローリング／\\t室内洗濯機置場\\t公営水道／\\t都市ガス</td>\n",
       "      <td>駐車場\\t無</td>\n",
       "      <td>NaN</td>\n",
       "      <td>鉄骨造</td>\n",
       "      <td>2年間</td>\n",
       "    </tr>\n",
       "  </tbody>\n",
       "</table>\n",
       "</div>"
      ],
      "text/plain": [
       "   id              Place                                             Access  \\\n",
       "0   1        東京都北区滝野川３丁目  都営三田線\\t西巣鴨駅\\t徒歩4分\\t\\t埼京線\\t板橋駅\\t徒歩14分\\t\\t都電荒川線\\...   \n",
       "1   2        東京都中央区月島３丁目  都営大江戸線\\t勝どき駅\\t徒歩5分\\t\\t有楽町線\\t月島駅\\t徒歩9分\\t\\t日比谷線\\...   \n",
       "2   3        東京都渋谷区笹塚２丁目  京王線\\t笹塚駅\\t徒歩6分\\t\\t京王線\\t代田橋駅\\t徒歩7分\\t\\t京王線\\t明大前駅...   \n",
       "3   4  東京都杉並区高円寺南２丁目23-2  総武線・中央線（各停）\\t高円寺駅\\t徒歩9分\\t\\t丸ノ内線(池袋－荻窪)\\t新高円寺駅\\...   \n",
       "4   5     東京都葛飾区金町３丁目7-2  京成金町線\\t京成金町駅\\t徒歩5分\\t\\t常磐線\\t金町(東京都)駅\\t徒歩7分\\t\\t京...   \n",
       "5   6       東京都荒川区南千住５丁目  常磐線快速\\t南千住駅\\t徒歩2分\\t\\t都電荒川線\\t三ノ輪橋駅\\t徒歩10分\\t\\t日比...   \n",
       "6   7       東京都練馬区東大泉３丁目  西武池袋線\\t大泉学園駅\\t徒歩4分\\t\\t西武池袋線\\t保谷駅\\t徒歩25分\\t\\t東武東...   \n",
       "7   8        東京都目黒区鷹番１丁目  東急東横線\\t学芸大学駅\\t徒歩7分\\t\\t東急東横線\\t都立大学駅\\t徒歩16分\\t\\t東...   \n",
       "8   9        東京都文京区向丘１丁目  南北線\\t東大前駅\\t徒歩3分\\t\\t都営三田線\\t白山(東京都)駅\\t徒歩10分\\t\\t千...   \n",
       "9  10        東京都板橋区板橋４丁目  埼京線\\t板橋駅\\t徒歩8分\\t\\t都営三田線\\t新板橋駅\\t徒歩4分\\t\\t東武東上線\\t...   \n",
       "\n",
       "   Room   Passed Angle     Area     Floor  \\\n",
       "0    1K    9年9ヶ月    南東  20.01m2   1階／12階建   \n",
       "1    1R  44年10ヶ月   NaN   16.5m2   5階／10階建   \n",
       "2    1K    8年6ヶ月     南  22.05m2  12階／15階建   \n",
       "3  2LDK   29年4ヶ月     南  60.48m2    3階／4階建   \n",
       "4   2DK   31年7ヶ月     南  39.66m2    1階／2階建   \n",
       "5  2LDK    7年6ヶ月     東   50.8m2   6階／12階建   \n",
       "6    1K   10年5ヶ月     南  23.82m2    6階／8階建   \n",
       "7    1K   14年4ヶ月   NaN  32.32m2    1階／6階建   \n",
       "8   2DK   44年8ヶ月    北西  65.59m2    4階／9階建   \n",
       "9   1DK   38年9ヶ月    南東   30.3m2    2階／3階建   \n",
       "\n",
       "                                                Bath  \\\n",
       "0   専用バス／\\t専用トイレ／\\tバス・トイレ別／\\tシャワー／\\t浴室乾燥機\\t／\\t温水洗浄便座   \n",
       "1                              専用トイレ／\\tシャワー／\\t温水洗浄便座   \n",
       "2  専用バス／\\t専用トイレ／\\tバス・トイレ別／\\tシャワー／\\t浴室乾燥機\\t／\\t温水洗浄...   \n",
       "3     専用バス／\\t専用トイレ／\\tバス・トイレ別／\\tシャワー／\\t温水洗浄便座／\\t洗面台独立   \n",
       "4               専用バス／\\t専用トイレ／\\tバス・トイレ別／\\tシャワー／\\t追焚機能   \n",
       "5  専用バス／\\t専用トイレ／\\tバス・トイレ別／\\tシャワー／\\t浴室乾燥機\\t／\\t温水洗浄...   \n",
       "6  専用バス／\\t専用トイレ／\\tバス・トイレ別／\\tシャワー／\\t追焚機能／\\t浴室乾燥機\\t...   \n",
       "7  専用バス／\\t専用トイレ／\\tバス・トイレ別／\\t追焚機能／\\t浴室乾燥機\\t／\\t温水洗浄...   \n",
       "8              専用バス／\\t専用トイレ／\\tバス・トイレ別／\\t追焚機能／\\t洗面台独立   \n",
       "9              専用バス／\\t専用トイレ／\\tバス・トイレ別／\\tシャワー／\\t洗面台独立   \n",
       "\n",
       "                                    Kitchen  \\\n",
       "0           ガスコンロ／\\tコンロ2口／\\tシステムキッチン\\t／\\t給湯   \n",
       "1                   ガスコンロ／\\tシステムキッチン\\t／\\t給湯   \n",
       "2           ガスコンロ／\\tコンロ2口／\\tシステムキッチン\\t／\\t給湯   \n",
       "3                                ガスコンロ／\\t給湯   \n",
       "4                               給湯／\\t独立キッチン   \n",
       "5  ガスコンロ／\\tコンロ3口／\\tシステムキッチン\\t／\\t給湯／\\t独立キッチン   \n",
       "6           ガスコンロ／\\tコンロ2口／\\tシステムキッチン\\t／\\t給湯   \n",
       "7                  ガスコンロ／\\tコンロ2口／\\tシステムキッチン   \n",
       "8           ガスコンロ／\\tコンロ3口／\\tシステムキッチン\\t／\\t給湯   \n",
       "9                        ガスコンロ／\\tコンロ2口／\\t給湯   \n",
       "\n",
       "                               Internet  \\\n",
       "0    インターネット対応／\\tCATV／\\tCSアンテナ／\\tBSアンテナ   \n",
       "1                             インターネット対応   \n",
       "2  インターネット対応／\\t光ファイバー／\\tCSアンテナ／\\tBSアンテナ   \n",
       "3                    インターネット対応／\\t光ファイバー   \n",
       "4                                   NaN   \n",
       "5                    インターネット対応／\\t光ファイバー   \n",
       "6    インターネット対応／\\t光ファイバー／\\tCATV／\\tBSアンテナ   \n",
       "7       光ファイバー／\\tCATV／\\tCSアンテナ／\\tBSアンテナ   \n",
       "8                                   NaN   \n",
       "9                         光ファイバー／\\tCATV   \n",
       "\n",
       "                                            Facility  \\\n",
       "0  エアコン付\\tシューズボックス／\\tバルコニー／\\tフローリング／\\t室内洗濯機置場／\\t敷...   \n",
       "1  エアコン付\\tシューズボックス／\\tバルコニー／\\tフローリング／\\t室内洗濯機置場／\\t敷...   \n",
       "2  エアコン付\\tウォークインクローゼット\\tシューズボックス／\\tバルコニー／\\tフローリング...   \n",
       "3  エアコン付\\tシューズボックス／\\tバルコニー／\\t2面採光／\\t室内洗濯機置場／\\tエレベ...   \n",
       "4                バルコニー／\\tフローリング／\\t室内洗濯機置場\\t公営水道／\\t下水   \n",
       "5  エアコン付\\tシューズボックス／\\tバルコニー／\\tフローリング／\\t24時間換気システム\\...   \n",
       "6  エアコン付\\tシューズボックス／\\tバルコニー／\\tフローリング／\\t24時間換気システム\\...   \n",
       "7  エアコン付\\tシューズボックス／\\tバルコニー／\\tフローリング／\\t24時間換気システム\\...   \n",
       "8       エアコン付\\tバルコニー／\\tフローリング／\\t室内洗濯機置場\\t公営水道／\\t都市ガス   \n",
       "9       エアコン付\\tバルコニー／\\tフローリング／\\t室内洗濯機置場\\t公営水道／\\t都市ガス   \n",
       "\n",
       "                                             Parking  \\\n",
       "0                                            駐輪場\\t空有   \n",
       "1                         駐輪場\\t空有\\t駐車場\\t無\\tバイク置き場\\t無   \n",
       "2  駐輪場\\t空有\\tバイク置き場\\t空有\\t駐車場\\t近隣\\t30,000円(税込)\\t距離100m   \n",
       "3                          駐車場\\t無\\t駐輪場\\t無\\tバイク置き場\\t無   \n",
       "4    駐車場\\t近隣\\t17,000円(税込)\\t距離300m\\t駐輪場\\t無\\tバイク置き場\\t無   \n",
       "5   駐輪場\\t空有\\t駐車場\\t近隣\\t27,000円(税込)\\t距離150m\\tバイク置き場\\t無   \n",
       "6   駐輪場\\t空有\\t駐車場\\t近隣\\t16,000円(税込)\\t距離200m\\tバイク置き場\\t無   \n",
       "7                                                NaN   \n",
       "8                                             駐車場\\t無   \n",
       "9                                             駐車場\\t無   \n",
       "\n",
       "                                            Building         Material  \\\n",
       "0  【小学校】 495m\\t【大学】 461m\\t【小学校】 962m\\t【公園】 1103m\\...     RC（鉄筋コンクリート）   \n",
       "1                                       【スーパー】 1283m              鉄骨造   \n",
       "2  【スーパー】 89m\\t【コンビニ】 184m\\t【コンビニ】 392m\\t【スーパー】 492m     RC（鉄筋コンクリート）   \n",
       "3  【スーパー】 225m\\t【スーパー】 448m\\t【スーパー】 619m\\t【スーパー】 ...     RC（鉄筋コンクリート）   \n",
       "4  【スーパー】 193m\\t【スーパー】 298m\\t【スーパー】 660m\\t【スーパー】 ...               木造   \n",
       "5                           【スーパー】 251m\\t【コンビニ】 376m     RC（鉄筋コンクリート）   \n",
       "6  【スーパー】 812m\\t【コンビニ】 149m\\t【コンビニ】 942m\\t【スーパー】 ...     RC（鉄筋コンクリート）   \n",
       "7  【スーパー】 334m\\t【スーパー】 562m\\t【スーパー】 694m\\t【コンビニ】 ...     RC（鉄筋コンクリート）   \n",
       "8                                                NaN  SRC（鉄骨鉄筋コンクリート）   \n",
       "9                                                NaN              鉄骨造   \n",
       "\n",
       "                 Contract  \n",
       "0                     2年間  \n",
       "1                     2年間  \n",
       "2                     2年間  \n",
       "3  2年間\\t※この物件は\\t定期借家\\tです。  \n",
       "4                     2年間  \n",
       "5                     2年間  \n",
       "6                     2年間  \n",
       "7                     2年間  \n",
       "8                     2年間  \n",
       "9                     2年間  "
      ]
     },
     "execution_count": 4,
     "metadata": {},
     "output_type": "execute_result"
    }
   ],
   "source": [
    "x_train.head(10)"
   ]
  },
  {
   "cell_type": "code",
   "execution_count": 7,
   "metadata": {},
   "outputs": [
    {
     "data": {
      "text/plain": [
       "count    3.147000e+04\n",
       "mean     1.182903e+05\n",
       "std      7.374880e+04\n",
       "min      2.500000e+04\n",
       "25%      7.600000e+04\n",
       "50%      1.020000e+05\n",
       "75%      1.360000e+05\n",
       "max      2.500000e+06\n",
       "Name: target, dtype: float64"
      ]
     },
     "execution_count": 7,
     "metadata": {},
     "output_type": "execute_result"
    }
   ],
   "source": [
    "y_train.describe()"
   ]
  },
  {
   "cell_type": "code",
   "execution_count": 8,
   "metadata": {},
   "outputs": [
    {
     "data": {
      "text/plain": [
       "<matplotlib.axes._subplots.AxesSubplot at 0x22cb0c96d30>"
      ]
     },
     "execution_count": 8,
     "metadata": {},
     "output_type": "execute_result"
    },
    {
     "data": {
      "image/png": "[encoded data removed]",
      "text/plain": [
       "<Figure size 432x288 with 1 Axes>"
      ]
     },
     "metadata": {
      "needs_background": "light"
     },
     "output_type": "display_data"
    }
   ],
   "source": [
    "sns.distplot(y_train)"
   ]
  },
  {
   "cell_type": "code",
   "execution_count": 9,
   "metadata": {},
   "outputs": [
    {
     "data": {
      "text/plain": [
       "5093     2500000\n",
       "20643    1800000\n",
       "30539    1660000\n",
       "1771     1450000\n",
       "8706     1390000\n",
       "9008     1300000\n",
       "20989    1300000\n",
       "15417    1300000\n",
       "5775     1203500\n",
       "1501     1200000\n",
       "Name: target, dtype: int64"
      ]
     },
     "execution_count": 9,
     "metadata": {},
     "output_type": "execute_result"
    }
   ],
   "source": [
    "y_train.sort_values(ascending=False).head(10)"
   ]
  },
  {
   "cell_type": "markdown",
   "metadata": {},
   "source": [
    "250万のデータを取ってきてます。  \n",
    "x_trainのy_train==250万の行にアクセス"
   ]
  },
  {
   "cell_type": "code",
   "execution_count": 10,
   "metadata": {},
   "outputs": [
    {
     "data": {
      "text/html": [
       "<div>\n",
       "<style scoped>\n",
       "    .dataframe tbody tr th:only-of-type {\n",
       "        vertical-align: middle;\n",
       "    }\n",
       "\n",
       "    .dataframe tbody tr th {\n",
       "        vertical-align: top;\n",
       "    }\n",
       "\n",
       "    .dataframe thead th {\n",
       "        text-align: right;\n",
       "    }\n",
       "</style>\n",
       "<table border=\"1\" class=\"dataframe\">\n",
       "  <thead>\n",
       "    <tr style=\"text-align: right;\">\n",
       "      <th></th>\n",
       "      <th>id</th>\n",
       "      <th>Place</th>\n",
       "      <th>Access</th>\n",
       "      <th>Room</th>\n",
       "      <th>Passed</th>\n",
       "      <th>Angle</th>\n",
       "      <th>Area</th>\n",
       "      <th>Floor</th>\n",
       "      <th>Bath</th>\n",
       "      <th>Kitchen</th>\n",
       "      <th>Internet</th>\n",
       "      <th>Facility</th>\n",
       "      <th>Parking</th>\n",
       "      <th>Building</th>\n",
       "      <th>Material</th>\n",
       "      <th>Contract</th>\n",
       "    </tr>\n",
       "  </thead>\n",
       "  <tbody>\n",
       "    <tr>\n",
       "      <th>5093</th>\n",
       "      <td>5094</td>\n",
       "      <td>東京都港区三田２丁目4-3</td>\n",
       "      <td>南北線\\t麻布十番駅\\t徒歩8分\\t\\t都営大江戸線\\t赤羽橋駅\\t徒歩9分\\t\\t山手線\\...</td>\n",
       "      <td>2LDK+S(納戸)</td>\n",
       "      <td>1年8ヶ月</td>\n",
       "      <td>西</td>\n",
       "      <td>217.29m2</td>\n",
       "      <td>9階／9階建（地下2階）</td>\n",
       "      <td>専用バス／\\t専用トイレ／\\tバス・トイレ別／\\tシャワー／\\t追焚機能／\\t浴室乾燥機\\t...</td>\n",
       "      <td>IHコンロ\\t／\\tコンロ3口／\\tシステムキッチン\\t／\\tカウンターキッチン\\t／\\tL...</td>\n",
       "      <td>インターネット対応</td>\n",
       "      <td>エアコン付／\\t床暖房\\tウォークインクローゼット\\tシューズボックス／\\tバルコニー／\\t...</td>\n",
       "      <td>駐車場\\t空有(43台)\\t48,600円</td>\n",
       "      <td>【飲食店】 959m\\t【飲食店】 611m\\t【スーパー】 417m\\t【スーパー】 65...</td>\n",
       "      <td>RC（鉄筋コンクリート）</td>\n",
       "      <td>3年間\\t※この物件は\\t定期借家\\tです。</td>\n",
       "    </tr>\n",
       "  </tbody>\n",
       "</table>\n",
       "</div>"
      ],
      "text/plain": [
       "        id          Place                                             Access  \\\n",
       "5093  5094  東京都港区三田２丁目4-3  南北線\\t麻布十番駅\\t徒歩8分\\t\\t都営大江戸線\\t赤羽橋駅\\t徒歩9分\\t\\t山手線\\...   \n",
       "\n",
       "            Room Passed Angle      Area         Floor  \\\n",
       "5093  2LDK+S(納戸)  1年8ヶ月     西  217.29m2  9階／9階建（地下2階）   \n",
       "\n",
       "                                                   Bath  \\\n",
       "5093  専用バス／\\t専用トイレ／\\tバス・トイレ別／\\tシャワー／\\t追焚機能／\\t浴室乾燥機\\t...   \n",
       "\n",
       "                                                Kitchen   Internet  \\\n",
       "5093  IHコンロ\\t／\\tコンロ3口／\\tシステムキッチン\\t／\\tカウンターキッチン\\t／\\tL...  インターネット対応   \n",
       "\n",
       "                                               Facility  \\\n",
       "5093  エアコン付／\\t床暖房\\tウォークインクローゼット\\tシューズボックス／\\tバルコニー／\\t...   \n",
       "\n",
       "                    Parking  \\\n",
       "5093  駐車場\\t空有(43台)\\t48,600円   \n",
       "\n",
       "                                               Building      Material  \\\n",
       "5093  【飲食店】 959m\\t【飲食店】 611m\\t【スーパー】 417m\\t【スーパー】 65...  RC（鉄筋コンクリート）   \n",
       "\n",
       "                    Contract  \n",
       "5093  3年間\\t※この物件は\\t定期借家\\tです。  "
      ]
     },
     "execution_count": 10,
     "metadata": {},
     "output_type": "execute_result"
    }
   ],
   "source": [
    "x_train[y_train==2500000]"
   ]
  },
  {
   "cell_type": "markdown",
   "metadata": {},
   "source": [
    "最も多い住所を出力  \n",
    "ユニークな要素の値　出現個数"
   ]
  },
  {
   "cell_type": "code",
   "execution_count": 11,
   "metadata": {},
   "outputs": [
    {
     "data": {
      "text/plain": [
       "東京都板橋区板橋３丁目1-8         54\n",
       "東京都世田谷区太子堂２丁目          53\n",
       "東京都足立区新田１丁目            47\n",
       "東京都中野区白鷺２丁目1-21        45\n",
       "東京都中央区日本橋馬喰町２丁目4-12    44\n",
       "東京都豊島区池袋３丁目            43\n",
       "東京都豊島区東池袋２丁目           40\n",
       "東京都墨田区緑４丁目             39\n",
       "東京都中央区日本橋馬喰町２丁目        38\n",
       "東京都中野区江古田３丁目14-3       38\n",
       "Name: Place, dtype: int64"
      ]
     },
     "execution_count": 11,
     "metadata": {},
     "output_type": "execute_result"
    }
   ],
   "source": [
    "x_train['Place'].value_counts().head(10)"
   ]
  },
  {
   "cell_type": "code",
   "execution_count": 12,
   "metadata": {},
   "outputs": [
    {
     "data": {
      "text/plain": [
       "東京都江戸川区南葛西４丁目5-12    1\n",
       "東京都江東区佐賀１丁目          1\n",
       "東京都豊島区北大塚３丁目５‐１４     1\n",
       "東京都葛飾区金町４丁目23-14     1\n",
       "東京都葛飾区青戸４丁目25-14     1\n",
       "東京都北区赤羽西１丁目15-16     1\n",
       "東京都文京区小石川３丁目1-5      1\n",
       "東京都世田谷区赤堤３丁目21-18    1\n",
       "東京都足立区足立３丁目１９－１５     1\n",
       "東京都目黒区中町１丁目２５-３６     1\n",
       "Name: Place, dtype: int64"
      ]
     },
     "execution_count": 12,
     "metadata": {},
     "output_type": "execute_result"
    }
   ],
   "source": [
    "x_train['Place'].value_counts().tail(10)"
   ]
  },
  {
   "cell_type": "code",
   "execution_count": 13,
   "metadata": {},
   "outputs": [],
   "source": [
    "df_load_test = load_test_data()"
   ]
  },
  {
   "cell_type": "code",
   "execution_count": 14,
   "metadata": {},
   "outputs": [
    {
     "data": {
      "text/plain": [
       "東京都世田谷区太子堂２丁目       53\n",
       "東京都板橋区板橋３丁目1-8      48\n",
       "東京都中野区白鷺２丁目1-21     47\n",
       "東京都豊島区南長崎５丁目        47\n",
       "東京都中央区勝どき６丁目        42\n",
       "東京都中央区日本橋馬喰町２丁目     41\n",
       "東京都板橋区高島平１丁目        40\n",
       "東京都江戸川区鹿骨５丁目        40\n",
       "東京都江東区海辺            39\n",
       "東京都中野区江古田３丁目14-3    37\n",
       "Name: Place, dtype: int64"
      ]
     },
     "execution_count": 14,
     "metadata": {},
     "output_type": "execute_result"
    }
   ],
   "source": [
    "df_load_test['Place'].value_counts().head(10)"
   ]
  },
  {
   "cell_type": "code",
   "execution_count": 15,
   "metadata": {},
   "outputs": [
    {
     "data": {
      "text/plain": [
       "都営大江戸線\\t新江古田駅\\t徒歩10分\\t\\t西武池袋線\\t江古田駅\\t徒歩20分\\t\\t西武新宿線\\t沼袋駅\\t徒歩15分           65\n",
       "総武本線\\t馬喰町駅\\t徒歩4分\\t\\t都営浅草線\\t浅草橋駅\\t徒歩4分                                     61\n",
       "都営三田線\\t板橋区役所前駅\\t徒歩5分\\t\\t東武東上線\\t下板橋駅\\t徒歩7分\\t\\t都営三田線\\t新板橋駅\\t徒歩8分            49\n",
       "東西線\\t木場(東京都)駅\\t徒歩5分\\t\\t都営大江戸線\\t門前仲町駅\\t徒歩15分\\t\\t京葉線(東京－蘇我)\\t越中島駅\\t徒歩17分    48\n",
       "西武新宿線\\t鷺ノ宮駅\\t徒歩8分\\t\\t西武新宿線\\t都立家政駅\\t徒歩14分\\t\\t西武新宿線\\t下井草駅\\t徒歩20分            45\n",
       "総武本線\\t馬喰町駅\\t徒歩4分\\t\\t総武線・中央線（各停）\\t浅草橋駅\\t徒歩4分\\t\\t都営新宿線\\t馬喰横山駅\\t徒歩8分         44\n",
       "都営大江戸線\\t勝どき駅\\t徒歩5分\\t\\t有楽町線\\t月島駅\\t徒歩14分\\t\\t日比谷線\\t築地駅\\t徒歩21分                36\n",
       "有楽町線\\t新富町(東京都)駅\\t徒歩3分\\t\\t日比谷線\\t八丁堀(東京都)駅\\t徒歩4分\\t\\t日比谷線\\t築地駅\\t徒歩5分         30\n",
       "都営新宿線\\t住吉(東京都)駅\\t徒歩7分\\t\\t都営新宿線\\t西大島駅\\t徒歩19分\\t\\t都営新宿線\\t菊川(東京都)駅\\t徒歩20分     29\n",
       "ゆりかもめ\\t芝浦ふ頭駅\\t徒歩2分\\t\\t山手線\\t田町(東京都)駅\\t徒歩15分\\t\\t都営三田線\\t三田(東京都)駅\\t徒歩19分      29\n",
       "Name: Access, dtype: int64"
      ]
     },
     "execution_count": 15,
     "metadata": {},
     "output_type": "execute_result"
    }
   ],
   "source": [
    "x_train['Access'].value_counts().head(10)"
   ]
  },
  {
   "cell_type": "code",
   "execution_count": 16,
   "metadata": {},
   "outputs": [
    {
     "data": {
      "text/plain": [
       "東武スカイツリーライン\\t竹ノ塚駅\\t徒歩17分\\t\\t日暮里・舎人ライナー\\t舎人駅\\t徒歩24分\\t\\t東武スカイツリーライン\\t西新井駅\\t徒歩45分    1\n",
       "東急目黒線\\t大岡山駅\\t徒歩11分\\t\\t東急大井町線\\t緑が丘(東京都)駅\\t徒歩10分\\t\\t東急池上線\\t石川台駅\\t徒歩10分              1\n",
       "有楽町線\\t地下鉄赤塚駅\\t徒歩9分\\t\\t有楽町線\\t平和台(東京都)駅\\t徒歩14分\\t\\t東武東上線\\t下赤塚駅\\t徒歩11分                1\n",
       "西武新宿線\\t上井草駅\\t徒歩18分\\t\\t中央線（快速）\\t西荻窪駅\\t徒歩19分                                        1\n",
       "都営浅草線\\t馬込駅\\t徒歩5分\\t\\t東急池上線\\t長原(東京都)駅\\t徒歩15分\\t\\t東急大井町線\\t旗の台駅\\t徒歩15分                 1\n",
       "都営大江戸線\\t新江古田駅\\t徒歩2分\\t\\t西武池袋線\\t江古田駅\\t徒歩10分\\t\\t西武池袋線\\t東長崎駅\\t徒歩15分                   1\n",
       "都営新宿線\\t東大島駅\\t徒歩12分\\t\\t都営新宿線\\t大島(東京都)駅\\t徒歩24分                                      1\n",
       "東武東上線\\t下板橋駅\\t徒歩5分\\t\\t都営三田線\\t新板橋駅\\t徒歩5分\\t\\t埼京線\\t板橋駅\\t徒歩7分                          1\n",
       "東西線\\t九段下駅\\t徒歩7分\\t\\t有楽町線\\t市ケ谷駅\\t徒歩7分\\t\\t半蔵門線\\t半蔵門駅\\t徒歩9分                           1\n",
       "半蔵門線\\t押上駅\\t徒歩1分\\t\\t東武スカイツリーライン\\tとうきょうスカイツリー駅\\t徒歩7分\\t\\t総武線・中央線（各停）\\t錦糸町駅\\t徒歩17分    1\n",
       "Name: Access, dtype: int64"
      ]
     },
     "execution_count": 16,
     "metadata": {},
     "output_type": "execute_result"
    }
   ],
   "source": [
    "x_train['Access'].value_counts().tail(10)"
   ]
  },
  {
   "cell_type": "code",
   "execution_count": 17,
   "metadata": {},
   "outputs": [
    {
     "data": {
      "text/plain": [
       "都営大江戸線\\t新江古田駅\\t徒歩10分\\t\\t西武池袋線\\t江古田駅\\t徒歩20分\\t\\t西武新宿線\\t沼袋駅\\t徒歩15分           66\n",
       "西武新宿線\\t鷺ノ宮駅\\t徒歩8分\\t\\t西武新宿線\\t都立家政駅\\t徒歩14分\\t\\t西武新宿線\\t下井草駅\\t徒歩20分            47\n",
       "総武本線\\t馬喰町駅\\t徒歩4分\\t\\t都営浅草線\\t浅草橋駅\\t徒歩4分                                     46\n",
       "都営大江戸線\\t勝どき駅\\t徒歩5分\\t\\t有楽町線\\t月島駅\\t徒歩14分\\t\\t日比谷線\\t築地駅\\t徒歩21分                46\n",
       "都営三田線\\t板橋区役所前駅\\t徒歩5分\\t\\t東武東上線\\t下板橋駅\\t徒歩7分\\t\\t都営三田線\\t新板橋駅\\t徒歩8分            44\n",
       "東西線\\t木場(東京都)駅\\t徒歩5分\\t\\t都営大江戸線\\t門前仲町駅\\t徒歩15分\\t\\t京葉線(東京－蘇我)\\t越中島駅\\t徒歩17分    39\n",
       "総武本線\\t馬喰町駅\\t徒歩4分\\t\\t総武線・中央線（各停）\\t浅草橋駅\\t徒歩4分\\t\\t都営新宿線\\t馬喰横山駅\\t徒歩8分         37\n",
       "ゆりかもめ\\t芝浦ふ頭駅\\t徒歩2分\\t\\t山手線\\t田町(東京都)駅\\t徒歩15分\\t\\t都営三田線\\t三田(東京都)駅\\t徒歩19分      29\n",
       "都営大江戸線\\t新御徒町駅\\t徒歩7分\\t\\t銀座線\\t稲荷町(東京都)駅\\t徒歩7分\\t\\t銀座線\\t田原町(東京都)駅\\t徒歩8分       29\n",
       "西武池袋線\\t東長崎駅\\t徒歩1分\\t\\t都営大江戸線\\t落合南長崎駅\\t徒歩9分                                 29\n",
       "Name: Access, dtype: int64"
      ]
     },
     "execution_count": 17,
     "metadata": {},
     "output_type": "execute_result"
    }
   ],
   "source": [
    "df_load_test['Access'].value_counts().head(10)"
   ]
  },
  {
   "cell_type": "code",
   "execution_count": 18,
   "metadata": {},
   "outputs": [
    {
     "data": {
      "text/plain": [
       "0年1ヶ月     983\n",
       "新築        889\n",
       "0年0ヶ月     704\n",
       "0年2ヶ月     644\n",
       "0年3ヶ月     508\n",
       "0年5ヶ月     484\n",
       "0年6ヶ月     378\n",
       "0年4ヶ月     323\n",
       "12年5ヶ月    262\n",
       "11年5ヶ月    227\n",
       "Name: Passed, dtype: int64"
      ]
     },
     "execution_count": 18,
     "metadata": {},
     "output_type": "execute_result"
    }
   ],
   "source": [
    "x_train['Passed'].value_counts().head(10)"
   ]
  },
  {
   "cell_type": "code",
   "execution_count": 19,
   "metadata": {},
   "outputs": [
    {
     "data": {
      "text/plain": [
       "70年7ヶ月     1\n",
       "61年9ヶ月     1\n",
       "62年2ヶ月     1\n",
       "64年7ヶ月     1\n",
       "62年1ヶ月     1\n",
       "61年1ヶ月     1\n",
       "61年2ヶ月     1\n",
       "60年9ヶ月     1\n",
       "63年10ヶ月    1\n",
       "57年5ヶ月     1\n",
       "Name: Passed, dtype: int64"
      ]
     },
     "execution_count": 19,
     "metadata": {},
     "output_type": "execute_result"
    }
   ],
   "source": [
    "x_train['Passed'].value_counts().tail(10)"
   ]
  },
  {
   "cell_type": "code",
   "execution_count": 20,
   "metadata": {},
   "outputs": [
    {
     "data": {
      "text/plain": [
       "南     8909\n",
       "東     4995\n",
       "西     4026\n",
       "南東    3098\n",
       "南西    3080\n",
       "北     1966\n",
       "北西    1326\n",
       "北東    1321\n",
       "Name: Angle, dtype: int64"
      ]
     },
     "execution_count": 20,
     "metadata": {},
     "output_type": "execute_result"
    }
   ],
   "source": [
    "x_train['Angle'].value_counts()"
   ]
  },
  {
   "cell_type": "code",
   "execution_count": 21,
   "metadata": {},
   "outputs": [
    {
     "data": {
      "text/plain": [
       "0          東京都北区滝野川３丁目\n",
       "1          東京都中央区月島３丁目\n",
       "2          東京都渋谷区笹塚２丁目\n",
       "3    東京都杉並区高円寺南２丁目23-2\n",
       "4       東京都葛飾区金町３丁目7-2\n",
       "5         東京都荒川区南千住５丁目\n",
       "6         東京都練馬区東大泉３丁目\n",
       "7          東京都目黒区鷹番１丁目\n",
       "8          東京都文京区向丘１丁目\n",
       "9          東京都板橋区板橋４丁目\n",
       "Name: Place, dtype: object"
      ]
     },
     "execution_count": 21,
     "metadata": {},
     "output_type": "execute_result"
    }
   ],
   "source": [
    "df_load_train['Place'].head(10)"
   ]
  },
  {
   "cell_type": "code",
   "execution_count": 22,
   "metadata": {},
   "outputs": [],
   "source": [
    "import requests\n",
    "from bs4 import BeautifulSoup\n",
    "import time\n",
    "import tqdm\n",
    "\n",
    "\n",
    "URL = 'http://www.geocoding.jp/api/'\n",
    "\n",
    "\n",
    "def coordinate(address):\n",
    "    \"\"\"\n",
    "    addressに住所を指定すると緯度経度を返す。\n",
    "\n",
    "    >>> coordinate('東京都文京区本郷7-3-1')\n",
    "    ['35.712056', '139.762775']\n",
    "    \"\"\"\n",
    "    payload = {'q': address}\n",
    "    html = requests.get(URL, params=payload)\n",
    "    soup = BeautifulSoup(html.content, \"html.parser\")\n",
    "    if soup.find('error'):\n",
    "        raise ValueError(f\"Invalid address submitted. {address}\")\n",
    "    latitude = soup.find('lat').string\n",
    "    longitude = soup.find('lng').string\n",
    "    return [latitude, longitude]\n",
    "\n",
    "\n",
    "def coordinates(addresses, interval=10, progress=True):\n",
    "    \"\"\"\n",
    "    addressesに住所リストを指定すると、緯度経度リストを返す。\n",
    "\n",
    "    >>> coordinates(['東京都文京区本郷7-3-1', '東京都文京区湯島３丁目３０−１'], progress=False)\n",
    "    [['35.712056', '139.762775'], ['35.707771', '139.768205']]\n",
    "    \"\"\"\n",
    "    coordinates = []\n",
    "    for address in progress and tqdm(addresses) or addresses:\n",
    "        coordinates.append(coordinate(address))\n",
    "        time.sleep(interval)\n",
    "    return coordinates"
   ]
  },
  {
   "cell_type": "code",
   "execution_count": 23,
   "metadata": {},
   "outputs": [
    {
     "data": {
      "text/plain": [
       "['35.662885', '139.778627']"
      ]
     },
     "execution_count": 23,
     "metadata": {},
     "output_type": "execute_result"
    }
   ],
   "source": [
    "coordinate(x_train['Place'][1])"
   ]
  },
  {
   "cell_type": "code",
   "execution_count": 24,
   "metadata": {},
   "outputs": [
    {
     "data": {
      "text/plain": [
       "dtype('O')"
      ]
     },
     "execution_count": 24,
     "metadata": {},
     "output_type": "execute_result"
    }
   ],
   "source": [
    "x_train['Place'].dtypes"
   ]
  },
  {
   "cell_type": "code",
   "execution_count": 25,
   "metadata": {},
   "outputs": [
    {
     "data": {
      "text/plain": [
       "['35.662885', '139.778627']"
      ]
     },
     "execution_count": 25,
     "metadata": {},
     "output_type": "execute_result"
    }
   ],
   "source": [
    "coordinate(x_train['Place'][1])"
   ]
  },
  {
   "cell_type": "code",
   "execution_count": 36,
   "metadata": {},
   "outputs": [
    {
     "name": "stdout",
     "output_type": "stream",
     "text": [
      "[['35.748456', '139.7288']]\n",
      "[['35.748456', '139.7288'], ['35.662885', '139.778627']]\n"
     ]
    }
   ],
   "source": [
    "gps = []\n",
    "for id in range(2):\n",
    "    gps.append(coordinate(x_train['Place'][id]))\n",
    "    print(gps)"
   ]
  },
  {
   "cell_type": "code",
   "execution_count": 41,
   "metadata": {},
   "outputs": [
    {
     "name": "stdout",
     "output_type": "stream",
     "text": [
      "('35.748456', '35.662885')\n",
      "('139.7288', '139.778627')\n"
     ]
    }
   ],
   "source": [
    "lat,lon = zip(*gps)\n",
    "print(lat)\n",
    "print(lon)"
   ]
  },
  {
   "cell_type": "code",
   "execution_count": 44,
   "metadata": {},
   "outputs": [
    {
     "name": "stdout",
     "output_type": "stream",
     "text": [
      "139.7288      35.748456\n",
      "139.778627    35.662885\n",
      "dtype: object\n"
     ]
    },
    {
     "data": {
      "text/plain": [
       "dtype('O')"
      ]
     },
     "execution_count": 44,
     "metadata": {},
     "output_type": "execute_result"
    }
   ],
   "source": [
    "GPS = pd.Series(lat, lon)\n",
    "print(GPS)"
   ]
  },
  {
   "cell_type": "code",
   "execution_count": 64,
   "metadata": {},
   "outputs": [
    {
     "data": {
      "text/html": [
       "<div>\n",
       "<style scoped>\n",
       "    .dataframe tbody tr th:only-of-type {\n",
       "        vertical-align: middle;\n",
       "    }\n",
       "\n",
       "    .dataframe tbody tr th {\n",
       "        vertical-align: top;\n",
       "    }\n",
       "\n",
       "    .dataframe thead th {\n",
       "        text-align: right;\n",
       "    }\n",
       "</style>\n",
       "<table border=\"1\" class=\"dataframe\">\n",
       "  <thead>\n",
       "    <tr style=\"text-align: right;\">\n",
       "      <th></th>\n",
       "      <th>id</th>\n",
       "      <th>Place</th>\n",
       "      <th>Access</th>\n",
       "      <th>Room</th>\n",
       "      <th>Passed</th>\n",
       "      <th>Angle</th>\n",
       "      <th>Area</th>\n",
       "      <th>Floor</th>\n",
       "      <th>Bath</th>\n",
       "      <th>Kitchen</th>\n",
       "      <th>Internet</th>\n",
       "      <th>Facility</th>\n",
       "      <th>Parking</th>\n",
       "      <th>Building</th>\n",
       "      <th>Material</th>\n",
       "      <th>Contract</th>\n",
       "    </tr>\n",
       "  </thead>\n",
       "  <tbody>\n",
       "    <tr>\n",
       "      <th>31460</th>\n",
       "      <td>31461</td>\n",
       "      <td>35.748456</td>\n",
       "      <td>りんかい線\\t品川シーサイド駅\\t徒歩1分\\t\\t京急本線\\t青物横丁駅\\t徒歩10分\\t\\...</td>\n",
       "      <td>1K</td>\n",
       "      <td>16年1ヶ月</td>\n",
       "      <td>西</td>\n",
       "      <td>63.27m2</td>\n",
       "      <td>29階／30階建</td>\n",
       "      <td>専用バス／\\t専用トイレ／\\tバス・トイレ別／\\tシャワー／\\t追焚機能／\\t浴室乾燥機\\t...</td>\n",
       "      <td>ガスコンロ／\\tコンロ3口／\\tシステムキッチン\\t／\\t給湯／\\t独立キッチン</td>\n",
       "      <td>インターネット対応／\\t光ファイバー／\\tCATV</td>\n",
       "      <td>エアコン付／\\t床暖房\\tシューズボックス／\\tバルコニー／\\tフローリング／\\t24時間換...</td>\n",
       "      <td>駐輪場\\t空有\\tバイク置き場\\t空有\\t駐車場\\t無</td>\n",
       "      <td>【スーパー】 512m\\t【スーパー】 1331m\\t【スーパー】 1403m\\t【スーパー...</td>\n",
       "      <td>RC（鉄筋コンクリート）</td>\n",
       "      <td>2年間</td>\n",
       "    </tr>\n",
       "    <tr>\n",
       "      <th>31461</th>\n",
       "      <td>31462</td>\n",
       "      <td>35.748456</td>\n",
       "      <td>銀座線\\t銀座駅\\t徒歩8分\\t\\t都営浅草線\\t東銀座駅\\t徒歩7分\\t\\t有楽町線\\t新...</td>\n",
       "      <td>1K</td>\n",
       "      <td>12年0ヶ月</td>\n",
       "      <td>北西</td>\n",
       "      <td>24.16m2</td>\n",
       "      <td>14階／14階建</td>\n",
       "      <td>専用バス／\\t専用トイレ／\\tバス・トイレ別／\\tシャワー／\\t浴室乾燥機\\t／\\t温水洗浄...</td>\n",
       "      <td>ガスコンロ／\\tコンロ2口／\\tシステムキッチン\\t／\\t独立キッチン</td>\n",
       "      <td>インターネット対応／\\t光ファイバー／\\tCSアンテナ／\\tBSアンテナ</td>\n",
       "      <td>冷房／\\tエアコン付\\tシューズボックス／\\tバルコニー／\\tフローリング／\\t24時間換気...</td>\n",
       "      <td>駐輪場\\t空有</td>\n",
       "      <td>NaN</td>\n",
       "      <td>RC（鉄筋コンクリート）</td>\n",
       "      <td>NaN</td>\n",
       "    </tr>\n",
       "    <tr>\n",
       "      <th>31462</th>\n",
       "      <td>31463</td>\n",
       "      <td>35.748456</td>\n",
       "      <td>都営大江戸線\\t新江古田駅\\t徒歩10分\\t\\t西武池袋線\\t江古田駅\\t徒歩20分\\t\\t...</td>\n",
       "      <td>2LDK+S(納戸)</td>\n",
       "      <td>1年0ヶ月</td>\n",
       "      <td>東</td>\n",
       "      <td>69.54m2</td>\n",
       "      <td>1階／14階建</td>\n",
       "      <td>バス・トイレ別／\\tシャワー／\\t追焚機能／\\t温水洗浄便座</td>\n",
       "      <td>ガスコンロ／\\tコンロ3口／\\t給湯</td>\n",
       "      <td>インターネット対応／\\tCATV／\\tインターネット使用料無料</td>\n",
       "      <td>エアコン付／\\t床暖房\\tフローリング／\\t室内洗濯機置場／\\t敷地内ごみ置き場\\t／\\tエ...</td>\n",
       "      <td>駐車場\\t空有\\t32,400円(税込)\\t駐輪場\\t空有\\tバイク置き場\\t無</td>\n",
       "      <td>NaN</td>\n",
       "      <td>RC（鉄筋コンクリート）</td>\n",
       "      <td>2年間\\t※この物件は\\t定期借家\\tです。</td>\n",
       "    </tr>\n",
       "    <tr>\n",
       "      <th>31463</th>\n",
       "      <td>31464</td>\n",
       "      <td>35.748456</td>\n",
       "      <td>有楽町線\\t豊洲駅\\t徒歩9分\\t\\tゆりかもめ\\t新豊洲駅\\t徒歩5分\\t\\tゆりかもめ\\...</td>\n",
       "      <td>2LDK</td>\n",
       "      <td>3年9ヶ月</td>\n",
       "      <td>南東</td>\n",
       "      <td>55.98m2</td>\n",
       "      <td>18階／19階建</td>\n",
       "      <td>専用バス／\\t専用トイレ／\\tバス・トイレ別／\\tシャワー／\\t追焚機能／\\t浴室乾燥機\\t...</td>\n",
       "      <td>ガスコンロ／\\tIHコンロ\\t／\\tコンロ3口／\\tシステムキッチン\\t／\\tカウンターキッチン</td>\n",
       "      <td>インターネット対応／\\t高速インターネット／\\t光ファイバー／\\tCATV／\\tCSアンテナ...</td>\n",
       "      <td>冷房／\\tエアコン付\\tシューズボックス／\\tバルコニー／\\tフローリング／\\t24時間換気...</td>\n",
       "      <td>駐車場\\t空有\\t27,000円\\t駐輪場\\t空有\\tバイク置き場\\t空有</td>\n",
       "      <td>NaN</td>\n",
       "      <td>RC（鉄筋コンクリート）</td>\n",
       "      <td>NaN</td>\n",
       "    </tr>\n",
       "    <tr>\n",
       "      <th>31464</th>\n",
       "      <td>31465</td>\n",
       "      <td>35.748456</td>\n",
       "      <td>都営浅草線\\t戸越駅\\t徒歩5分\\t\\t東急池上線\\t戸越銀座駅\\t徒歩7分\\t\\t東急大井...</td>\n",
       "      <td>1K</td>\n",
       "      <td>新築</td>\n",
       "      <td>西</td>\n",
       "      <td>27.96m2</td>\n",
       "      <td>3階／3階建</td>\n",
       "      <td>専用バス／\\t専用トイレ／\\tバス・トイレ別／\\tシャワー／\\t追焚機能／\\t浴室乾燥機\\t...</td>\n",
       "      <td>ガスコンロ／\\tコンロ2口／\\tシステムキッチン\\t／\\t給湯</td>\n",
       "      <td>インターネット対応／\\tCSアンテナ／\\tBSアンテナ／\\tインターネット使用料無料</td>\n",
       "      <td>エアコン付\\tシューズボックス／\\tバルコニー／\\tフローリング／\\t24時間換気システム\\...</td>\n",
       "      <td>駐車場\\t空有\\t25,920円(税込)\\t駐輪場\\t空有\\tバイク置き場\\t無</td>\n",
       "      <td>【スーパー】 239m\\t【スーパー】 298m\\t【コンビニ】 408m</td>\n",
       "      <td>木造</td>\n",
       "      <td>2年間</td>\n",
       "    </tr>\n",
       "    <tr>\n",
       "      <th>31465</th>\n",
       "      <td>31466</td>\n",
       "      <td>35.748456</td>\n",
       "      <td>都営三田線\\t蓮根駅\\t徒歩7分\\t\\t都営三田線\\t西台駅\\t徒歩10分\\t\\t都営三田線...</td>\n",
       "      <td>2DK</td>\n",
       "      <td>30年0ヶ月</td>\n",
       "      <td>南</td>\n",
       "      <td>37.9m2</td>\n",
       "      <td>1階／3階建</td>\n",
       "      <td>専用バス／\\t専用トイレ／\\tバス・トイレ別／\\tシャワー／\\t追焚機能／\\t洗面台独立</td>\n",
       "      <td>ガスコンロ／\\tコンロ2口／\\t給湯</td>\n",
       "      <td>インターネット対応</td>\n",
       "      <td>エアコン付\\tバルコニー／\\t室内洗濯機置場\\t公営水道／\\t都市ガス</td>\n",
       "      <td>駐車場\\t無</td>\n",
       "      <td>NaN</td>\n",
       "      <td>鉄骨造</td>\n",
       "      <td>2年間</td>\n",
       "    </tr>\n",
       "    <tr>\n",
       "      <th>31466</th>\n",
       "      <td>31467</td>\n",
       "      <td>35.748456</td>\n",
       "      <td>東急田園都市線\\t三軒茶屋駅\\t徒歩6分\\t\\t東急世田谷線\\t西太子堂駅\\t徒歩4分\\t\\...</td>\n",
       "      <td>1R</td>\n",
       "      <td>39年7ヶ月</td>\n",
       "      <td>西</td>\n",
       "      <td>12.04m2</td>\n",
       "      <td>4階／4階建</td>\n",
       "      <td>専用バス／\\t専用トイレ／\\tシャワー</td>\n",
       "      <td>ガスコンロ／\\tコンロ1口／\\t給湯</td>\n",
       "      <td>NaN</td>\n",
       "      <td>エアコン付\\tバルコニー／\\tフローリング／\\t室外洗濯機置場／\\tタイル張り\\t公営水道／...</td>\n",
       "      <td>駐車場\\t無\\t駐輪場\\t無\\tバイク置き場\\t無</td>\n",
       "      <td>【スーパー】 458m\\t【スーパー】 540m\\t【コンビニ】 131m\\t【コンビニ】 ...</td>\n",
       "      <td>RC（鉄筋コンクリート）</td>\n",
       "      <td>2年間</td>\n",
       "    </tr>\n",
       "    <tr>\n",
       "      <th>31467</th>\n",
       "      <td>31468</td>\n",
       "      <td>35.748456</td>\n",
       "      <td>東西線\\t南砂町駅\\t徒歩5分\\t\\t都営新宿線\\t大島(東京都)駅\\t徒歩26分\\t\\t東...</td>\n",
       "      <td>3DK</td>\n",
       "      <td>45年10ヶ月</td>\n",
       "      <td>南</td>\n",
       "      <td>60m2</td>\n",
       "      <td>3階／5階建</td>\n",
       "      <td>バス・トイレ別／\\tシャワー／\\t追焚機能／\\t温水洗浄便座</td>\n",
       "      <td>ガスコンロ／\\tコンロ2口</td>\n",
       "      <td>光ファイバー</td>\n",
       "      <td>シューズボックス／\\tバルコニー／\\tフローリング／\\t室内洗濯機置場\\t都市ガス</td>\n",
       "      <td>駐輪場\\t空有\\tバイク置き場\\t無</td>\n",
       "      <td>【コンビニ】 302m\\t【コンビニ】 394m\\t【コンビニ】 452m\\t【コンビニ】 ...</td>\n",
       "      <td>鉄骨造</td>\n",
       "      <td>2年間</td>\n",
       "    </tr>\n",
       "    <tr>\n",
       "      <th>31468</th>\n",
       "      <td>31469</td>\n",
       "      <td>35.748456</td>\n",
       "      <td>中央線（快速）\\t中野(東京都)駅\\t徒歩4分\\t\\t丸ノ内線(池袋－荻窪)\\t新中野駅\\t...</td>\n",
       "      <td>1DK</td>\n",
       "      <td>11年0ヶ月</td>\n",
       "      <td>南</td>\n",
       "      <td>29.59m2</td>\n",
       "      <td>1階／2階建</td>\n",
       "      <td>専用バス／\\t専用トイレ／\\tバス・トイレ別／\\tシャワー／\\t洗面台独立</td>\n",
       "      <td>ガスコンロ／\\tシステムキッチン\\t／\\t給湯</td>\n",
       "      <td>インターネット対応／\\t光ファイバー／\\tCATV</td>\n",
       "      <td>エアコン付\\tシューズボックス／\\tバルコニー／\\tフローリング／\\t3面採光／\\t室内洗濯...</td>\n",
       "      <td>駐輪場\\t空有\\t駐車場\\t無\\tバイク置き場\\t無</td>\n",
       "      <td>【スーパー】 485m\\t【スーパー】 1051m\\t【コンビニ】 476m\\t【コンビニ】...</td>\n",
       "      <td>木造</td>\n",
       "      <td>2年間</td>\n",
       "    </tr>\n",
       "    <tr>\n",
       "      <th>31469</th>\n",
       "      <td>31470</td>\n",
       "      <td>35.748456</td>\n",
       "      <td>有楽町線\\t千川駅\\t徒歩5分\\t\\t有楽町線\\t要町駅\\t徒歩13分\\t\\t西武池袋線\\t...</td>\n",
       "      <td>1K</td>\n",
       "      <td>60年2ヶ月</td>\n",
       "      <td>南東</td>\n",
       "      <td>25m2</td>\n",
       "      <td>2階／3階建</td>\n",
       "      <td>専用バス／\\t専用トイレ／\\tバス・トイレ別／\\tシャワー</td>\n",
       "      <td>ガスコンロ／\\t給湯</td>\n",
       "      <td>高速インターネット</td>\n",
       "      <td>エアコン付\\tフローリング／\\t室内洗濯機置場\\t公営水道／\\t都市ガス</td>\n",
       "      <td>駐車場\\t無</td>\n",
       "      <td>NaN</td>\n",
       "      <td>鉄骨造</td>\n",
       "      <td>2年間</td>\n",
       "    </tr>\n",
       "  </tbody>\n",
       "</table>\n",
       "</div>"
      ],
      "text/plain": [
       "          id      Place                                             Access  \\\n",
       "31460  31461  35.748456  りんかい線\\t品川シーサイド駅\\t徒歩1分\\t\\t京急本線\\t青物横丁駅\\t徒歩10分\\t\\...   \n",
       "31461  31462  35.748456  銀座線\\t銀座駅\\t徒歩8分\\t\\t都営浅草線\\t東銀座駅\\t徒歩7分\\t\\t有楽町線\\t新...   \n",
       "31462  31463  35.748456  都営大江戸線\\t新江古田駅\\t徒歩10分\\t\\t西武池袋線\\t江古田駅\\t徒歩20分\\t\\t...   \n",
       "31463  31464  35.748456  有楽町線\\t豊洲駅\\t徒歩9分\\t\\tゆりかもめ\\t新豊洲駅\\t徒歩5分\\t\\tゆりかもめ\\...   \n",
       "31464  31465  35.748456  都営浅草線\\t戸越駅\\t徒歩5分\\t\\t東急池上線\\t戸越銀座駅\\t徒歩7分\\t\\t東急大井...   \n",
       "31465  31466  35.748456  都営三田線\\t蓮根駅\\t徒歩7分\\t\\t都営三田線\\t西台駅\\t徒歩10分\\t\\t都営三田線...   \n",
       "31466  31467  35.748456  東急田園都市線\\t三軒茶屋駅\\t徒歩6分\\t\\t東急世田谷線\\t西太子堂駅\\t徒歩4分\\t\\...   \n",
       "31467  31468  35.748456  東西線\\t南砂町駅\\t徒歩5分\\t\\t都営新宿線\\t大島(東京都)駅\\t徒歩26分\\t\\t東...   \n",
       "31468  31469  35.748456  中央線（快速）\\t中野(東京都)駅\\t徒歩4分\\t\\t丸ノ内線(池袋－荻窪)\\t新中野駅\\t...   \n",
       "31469  31470  35.748456  有楽町線\\t千川駅\\t徒歩5分\\t\\t有楽町線\\t要町駅\\t徒歩13分\\t\\t西武池袋線\\t...   \n",
       "\n",
       "             Room   Passed Angle     Area     Floor  \\\n",
       "31460          1K   16年1ヶ月     西  63.27m2  29階／30階建   \n",
       "31461          1K   12年0ヶ月    北西  24.16m2  14階／14階建   \n",
       "31462  2LDK+S(納戸)    1年0ヶ月     東  69.54m2   1階／14階建   \n",
       "31463        2LDK    3年9ヶ月    南東  55.98m2  18階／19階建   \n",
       "31464          1K       新築     西  27.96m2    3階／3階建   \n",
       "31465         2DK   30年0ヶ月     南   37.9m2    1階／3階建   \n",
       "31466          1R   39年7ヶ月     西  12.04m2    4階／4階建   \n",
       "31467         3DK  45年10ヶ月     南     60m2    3階／5階建   \n",
       "31468         1DK   11年0ヶ月     南  29.59m2    1階／2階建   \n",
       "31469          1K   60年2ヶ月    南東     25m2    2階／3階建   \n",
       "\n",
       "                                                    Bath  \\\n",
       "31460  専用バス／\\t専用トイレ／\\tバス・トイレ別／\\tシャワー／\\t追焚機能／\\t浴室乾燥機\\t...   \n",
       "31461  専用バス／\\t専用トイレ／\\tバス・トイレ別／\\tシャワー／\\t浴室乾燥機\\t／\\t温水洗浄...   \n",
       "31462                     バス・トイレ別／\\tシャワー／\\t追焚機能／\\t温水洗浄便座   \n",
       "31463  専用バス／\\t専用トイレ／\\tバス・トイレ別／\\tシャワー／\\t追焚機能／\\t浴室乾燥機\\t...   \n",
       "31464  専用バス／\\t専用トイレ／\\tバス・トイレ別／\\tシャワー／\\t追焚機能／\\t浴室乾燥機\\t...   \n",
       "31465       専用バス／\\t専用トイレ／\\tバス・トイレ別／\\tシャワー／\\t追焚機能／\\t洗面台独立   \n",
       "31466                                専用バス／\\t専用トイレ／\\tシャワー   \n",
       "31467                     バス・トイレ別／\\tシャワー／\\t追焚機能／\\t温水洗浄便座   \n",
       "31468              専用バス／\\t専用トイレ／\\tバス・トイレ別／\\tシャワー／\\t洗面台独立   \n",
       "31469                      専用バス／\\t専用トイレ／\\tバス・トイレ別／\\tシャワー   \n",
       "\n",
       "                                                Kitchen  \\\n",
       "31460          ガスコンロ／\\tコンロ3口／\\tシステムキッチン\\t／\\t給湯／\\t独立キッチン   \n",
       "31461               ガスコンロ／\\tコンロ2口／\\tシステムキッチン\\t／\\t独立キッチン   \n",
       "31462                                ガスコンロ／\\tコンロ3口／\\t給湯   \n",
       "31463  ガスコンロ／\\tIHコンロ\\t／\\tコンロ3口／\\tシステムキッチン\\t／\\tカウンターキッチン   \n",
       "31464                   ガスコンロ／\\tコンロ2口／\\tシステムキッチン\\t／\\t給湯   \n",
       "31465                                ガスコンロ／\\tコンロ2口／\\t給湯   \n",
       "31466                                ガスコンロ／\\tコンロ1口／\\t給湯   \n",
       "31467                                     ガスコンロ／\\tコンロ2口   \n",
       "31468                           ガスコンロ／\\tシステムキッチン\\t／\\t給湯   \n",
       "31469                                        ガスコンロ／\\t給湯   \n",
       "\n",
       "                                                Internet  \\\n",
       "31460                          インターネット対応／\\t光ファイバー／\\tCATV   \n",
       "31461               インターネット対応／\\t光ファイバー／\\tCSアンテナ／\\tBSアンテナ   \n",
       "31462                    インターネット対応／\\tCATV／\\tインターネット使用料無料   \n",
       "31463  インターネット対応／\\t高速インターネット／\\t光ファイバー／\\tCATV／\\tCSアンテナ...   \n",
       "31464         インターネット対応／\\tCSアンテナ／\\tBSアンテナ／\\tインターネット使用料無料   \n",
       "31465                                          インターネット対応   \n",
       "31466                                                NaN   \n",
       "31467                                             光ファイバー   \n",
       "31468                          インターネット対応／\\t光ファイバー／\\tCATV   \n",
       "31469                                          高速インターネット   \n",
       "\n",
       "                                                Facility  \\\n",
       "31460  エアコン付／\\t床暖房\\tシューズボックス／\\tバルコニー／\\tフローリング／\\t24時間換...   \n",
       "31461  冷房／\\tエアコン付\\tシューズボックス／\\tバルコニー／\\tフローリング／\\t24時間換気...   \n",
       "31462  エアコン付／\\t床暖房\\tフローリング／\\t室内洗濯機置場／\\t敷地内ごみ置き場\\t／\\tエ...   \n",
       "31463  冷房／\\tエアコン付\\tシューズボックス／\\tバルコニー／\\tフローリング／\\t24時間換気...   \n",
       "31464  エアコン付\\tシューズボックス／\\tバルコニー／\\tフローリング／\\t24時間換気システム\\...   \n",
       "31465                エアコン付\\tバルコニー／\\t室内洗濯機置場\\t公営水道／\\t都市ガス   \n",
       "31466  エアコン付\\tバルコニー／\\tフローリング／\\t室外洗濯機置場／\\tタイル張り\\t公営水道／...   \n",
       "31467          シューズボックス／\\tバルコニー／\\tフローリング／\\t室内洗濯機置場\\t都市ガス   \n",
       "31468  エアコン付\\tシューズボックス／\\tバルコニー／\\tフローリング／\\t3面採光／\\t室内洗濯...   \n",
       "31469               エアコン付\\tフローリング／\\t室内洗濯機置場\\t公営水道／\\t都市ガス   \n",
       "\n",
       "                                        Parking  \\\n",
       "31460               駐輪場\\t空有\\tバイク置き場\\t空有\\t駐車場\\t無   \n",
       "31461                                   駐輪場\\t空有   \n",
       "31462  駐車場\\t空有\\t32,400円(税込)\\t駐輪場\\t空有\\tバイク置き場\\t無   \n",
       "31463     駐車場\\t空有\\t27,000円\\t駐輪場\\t空有\\tバイク置き場\\t空有   \n",
       "31464  駐車場\\t空有\\t25,920円(税込)\\t駐輪場\\t空有\\tバイク置き場\\t無   \n",
       "31465                                    駐車場\\t無   \n",
       "31466                 駐車場\\t無\\t駐輪場\\t無\\tバイク置き場\\t無   \n",
       "31467                        駐輪場\\t空有\\tバイク置き場\\t無   \n",
       "31468                駐輪場\\t空有\\t駐車場\\t無\\tバイク置き場\\t無   \n",
       "31469                                    駐車場\\t無   \n",
       "\n",
       "                                                Building      Material  \\\n",
       "31460  【スーパー】 512m\\t【スーパー】 1331m\\t【スーパー】 1403m\\t【スーパー...  RC（鉄筋コンクリート）   \n",
       "31461                                                NaN  RC（鉄筋コンクリート）   \n",
       "31462                                                NaN  RC（鉄筋コンクリート）   \n",
       "31463                                                NaN  RC（鉄筋コンクリート）   \n",
       "31464              【スーパー】 239m\\t【スーパー】 298m\\t【コンビニ】 408m            木造   \n",
       "31465                                                NaN           鉄骨造   \n",
       "31466  【スーパー】 458m\\t【スーパー】 540m\\t【コンビニ】 131m\\t【コンビニ】 ...  RC（鉄筋コンクリート）   \n",
       "31467  【コンビニ】 302m\\t【コンビニ】 394m\\t【コンビニ】 452m\\t【コンビニ】 ...           鉄骨造   \n",
       "31468  【スーパー】 485m\\t【スーパー】 1051m\\t【コンビニ】 476m\\t【コンビニ】...            木造   \n",
       "31469                                                NaN           鉄骨造   \n",
       "\n",
       "                     Contract  \n",
       "31460                     2年間  \n",
       "31461                     NaN  \n",
       "31462  2年間\\t※この物件は\\t定期借家\\tです。  \n",
       "31463                     NaN  \n",
       "31464                     2年間  \n",
       "31465                     2年間  \n",
       "31466                     2年間  \n",
       "31467                     2年間  \n",
       "31468                     2年間  \n",
       "31469                     2年間  "
      ]
     },
     "execution_count": 64,
     "metadata": {},
     "output_type": "execute_result"
    }
   ],
   "source": [
    "x_train['Place'] = GPS[:][0]\n",
    "x_train.head(10)"
   ]
  },
  {
   "cell_type": "code",
   "execution_count": null,
   "metadata": {},
   "outputs": [],
   "source": []
  }
 ],
 "metadata": {
  "celltoolbar": "Raw Cell Format",
  "kernelspec": {
   "display_name": "Python 3",
   "language": "python",
   "name": "python3"
  },
  "language_info": {
   "codemirror_mode": {
    "name": "ipython",
    "version": 3
   },
   "file_extension": ".py",
   "mimetype": "text/x-python",
   "name": "python",
   "nbconvert_exporter": "python",
   "pygments_lexer": "ipython3",
   "version": "3.7.3"
  }
 },
 "nbformat": 4,
 "nbformat_minor": 2
}
